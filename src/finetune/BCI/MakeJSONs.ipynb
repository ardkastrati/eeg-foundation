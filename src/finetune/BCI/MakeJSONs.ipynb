{
 "cells": [
  {
   "cell_type": "code",
   "execution_count": 1,
   "id": "257742eb-1497-4df0-93e6-cae1b8e4ac34",
   "metadata": {},
   "outputs": [],
   "source": [
    "import json"
   ]
  },
  {
   "cell_type": "markdown",
   "id": "89e093fd-5563-42c1-9352-83bfab39eb1d",
   "metadata": {},
   "source": [
    "## TUAB"
   ]
  },
  {
   "cell_type": "code",
   "execution_count": 2,
   "id": "228ad07f-39ce-4ae7-b2ba-6f68a22ded98",
   "metadata": {},
   "outputs": [],
   "source": [
    "tuab_train_path = '/home/maxihuber/eeg-foundation/development/index_files/tuab_train_labeled'\n",
    "tuab_test_path = '/home/maxihuber/eeg-foundation/development/index_files/tuab_eval_labeled'\n",
    "\n",
    "with open(tuab_train_path, 'r') as file:\n",
    "    tuab_train = json.load(file)\n",
    "\n",
    "with open(tuab_test_path, 'r') as file:\n",
    "    tuab_test = json.load(file)"
   ]
  },
  {
   "cell_type": "code",
   "execution_count": 3,
   "id": "832a87ae-65d9-4019-98bb-f5a191e1101f",
   "metadata": {},
   "outputs": [],
   "source": [
    "labels = {0: \"normal\", 1: \"abnormal\"}"
   ]
  },
  {
   "cell_type": "code",
   "execution_count": 4,
   "id": "6943eb28-0dd6-45ea-b606-e81c6ca16536",
   "metadata": {},
   "outputs": [],
   "source": [
    "tuab_outpath = '/itet-stor/maxihuber/deepeye_storage/foundation_tasks/cli/tuab.json'\n",
    "\n",
    "full_index = {\"train\": [], \"test\": []}\n",
    "\n",
    "def make_sample_list(index, dest):\n",
    "    for sample in index:\n",
    "        sample_full = {\n",
    "            \"input\": [sample[0]], \n",
    "            \"output\": labels[sample[1]], \n",
    "            \"start\": 0, \n",
    "            \"length\": -1,\n",
    "        }\n",
    "        full_index[dest].append(sample_full)\n",
    "\n",
    "make_sample_list(tuab_train, \"train\")\n",
    "make_sample_list(tuab_test, \"test\")\n",
    "\n",
    "prnt = \"\"\"\n",
    "for k,v in full_index.items():\n",
    "    print(f\"{k}:\", v)\n",
    "\"\"\"\n",
    "\n",
    "dump = \"\"\"\n",
    "with open(tuab_outpath, 'w') as file:\n",
    "    json.dump(full_index, file, indent=4)\n",
    "\"\"\""
   ]
  },
  {
   "cell_type": "markdown",
   "id": "c12df2aa-4b55-4117-b2d0-7aea5b3b940d",
   "metadata": {},
   "source": [
    "## Epilepsy"
   ]
  },
  {
   "cell_type": "code",
   "execution_count": 8,
   "id": "2b21bbb0-2215-4791-b9b9-8eec5f36238d",
   "metadata": {},
   "outputs": [
    {
     "name": "stdout",
     "output_type": "stream",
     "text": [
      "Number of training samples: 1838\n",
      "Number of testing samples: 460\n",
      "\n",
      "Training samples:\n",
      "['/itet-stor/maxihuber/deepeye_storage/foundation/tueg_tasks/epilepsy/00_epilepsy/aaaaamnj/s006_2012/01_tcp_ar/aaaaamnj_s006_t000.edf', 1]\n",
      "['/itet-stor/maxihuber/deepeye_storage/foundation/tueg_tasks/epilepsy/01_no_epilepsy/aaaaalze/s001_2011/02_tcp_le/aaaaalze_s001_t001.edf', 0]\n",
      "['/itet-stor/maxihuber/deepeye_storage/foundation/tueg_tasks/epilepsy/00_epilepsy/aaaaajqo/s009_2010/03_tcp_ar_a/aaaaajqo_s009_t003.edf', 1]\n",
      "['/itet-stor/maxihuber/deepeye_storage/foundation/tueg_tasks/epilepsy/00_epilepsy/aaaaaowq/s006_2013/01_tcp_ar/aaaaaowq_s006_t004.edf', 1]\n",
      "['/itet-stor/maxihuber/deepeye_storage/foundation/tueg_tasks/epilepsy/01_no_epilepsy/aaaaanig/s009_2017/01_tcp_ar/aaaaanig_s009_t005.edf', 0]\n",
      "\n",
      "Testing samples:\n",
      "['/itet-stor/maxihuber/deepeye_storage/foundation/tueg_tasks/epilepsy/00_epilepsy/aaaaamnj/s008_2012/01_tcp_ar/aaaaamnj_s008_t002.edf', 1]\n",
      "['/itet-stor/maxihuber/deepeye_storage/foundation/tueg_tasks/epilepsy/00_epilepsy/aaaaamoa/s004_2012/01_tcp_ar/aaaaamoa_s004_t000.edf', 1]\n",
      "['/itet-stor/maxihuber/deepeye_storage/foundation/tueg_tasks/epilepsy/01_no_epilepsy/aaaaanig/s009_2017/01_tcp_ar/aaaaanig_s009_t003.edf', 0]\n",
      "['/itet-stor/maxihuber/deepeye_storage/foundation/tueg_tasks/epilepsy/00_epilepsy/aaaaaliw/s001_2010/02_tcp_le/aaaaaliw_s001_t000.edf', 1]\n",
      "['/itet-stor/maxihuber/deepeye_storage/foundation/tueg_tasks/epilepsy/01_no_epilepsy/aaaaanig/s013_2017/01_tcp_ar/aaaaanig_s013_t004.edf', 0]\n"
     ]
    }
   ],
   "source": [
    "import os\n",
    "from sklearn.model_selection import train_test_split\n",
    "\n",
    "def collect_edf_files(root_folder, cls):\n",
    "    edf_files = []\n",
    "    for dirpath, dirnames, filenames in os.walk(root_folder):\n",
    "        for file in filenames:\n",
    "            if file.endswith('.edf'):\n",
    "                new_sample_path = os.path.join(dirpath, file)\n",
    "                edf_files.append([new_sample_path, cls])\n",
    "    return edf_files\n",
    "\n",
    "# Collect files with their respective classes\n",
    "normal = collect_edf_files(\"/itet-stor/maxihuber/deepeye_storage/foundation/tueg_tasks/epilepsy/01_no_epilepsy\", 0)\n",
    "abnormal = collect_edf_files(\"/itet-stor/maxihuber/deepeye_storage/foundation/tueg_tasks/epilepsy/00_epilepsy\", 1)\n",
    "\n",
    "# Combine all files into one list\n",
    "all_files = normal + abnormal\n",
    "\n",
    "# Split the all_files list into training and testing sets\n",
    "epilepsy_train, epilepsy_test = train_test_split(all_files, test_size=0.2, random_state=42)\n",
    "\n",
    "# Print the number of samples in each set\n",
    "print(f\"Number of training samples: {len(epilepsy_train)}\")\n",
    "print(f\"Number of testing samples: {len(epilepsy_test)}\")\n",
    "\n",
    "# Optionally print some examples from the splits\n",
    "print(\"\\nTraining samples:\")\n",
    "for sample in epilepsy_train[:5]:\n",
    "    print(sample)\n",
    "\n",
    "print(\"\\nTesting samples:\")\n",
    "for sample in epilepsy_test[:5]:\n",
    "    print(sample)"
   ]
  },
  {
   "cell_type": "code",
   "execution_count": 9,
   "id": "da2cedf7-4fc8-41dc-b97a-583af3151d98",
   "metadata": {},
   "outputs": [],
   "source": [
    "epilepsy_outpath = '/itet-stor/maxihuber/deepeye_storage/foundation_tasks/cli/epilepsy.json'\n",
    "\n",
    "full_index = {\"train\": [], \"test\": []}\n",
    "\n",
    "def make_sample_list(index, dest):\n",
    "    for sample in index:\n",
    "        sample_full = {\n",
    "            \"input\": [sample[0]], \n",
    "            \"output\": labels[sample[1]],\n",
    "            \"start\": 0, \n",
    "            \"length\": -1,\n",
    "        }\n",
    "        full_index[dest].append(sample_full)\n",
    "\n",
    "make_sample_list(epilepsy_train, \"train\")\n",
    "make_sample_list(epilepsy_test, \"test\")\n",
    "\n",
    "prnt = \"\"\"\n",
    "for k,v in full_index.items():\n",
    "    print(f\"{k}:\", v)\n",
    "\"\"\"\n",
    "\n",
    "dump = \"\"\"\n",
    "with open(epilepsy_outpath, 'w') as file:\n",
    "    json.dump(full_index, file, indent=4)\n",
    "\"\"\""
   ]
  },
  {
   "cell_type": "code",
   "execution_count": null,
   "id": "c170ffc3-deac-4d52-ad45-02e84c38180a",
   "metadata": {},
   "outputs": [],
   "source": []
  }
 ],
 "metadata": {
  "kernelspec": {
   "display_name": "Python 3 (ipykernel)",
   "language": "python",
   "name": "python3"
  },
  "language_info": {
   "codemirror_mode": {
    "name": "ipython",
    "version": 3
   },
   "file_extension": ".py",
   "mimetype": "text/x-python",
   "name": "python",
   "nbconvert_exporter": "python",
   "pygments_lexer": "ipython3",
   "version": "3.9.18"
  }
 },
 "nbformat": 4,
 "nbformat_minor": 5
}
