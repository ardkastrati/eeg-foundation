{
 "cells": [
  {
   "cell_type": "code",
   "execution_count": 1,
   "id": "740cee73-1823-4001-bd57-07cb0cbeeba8",
   "metadata": {},
   "outputs": [
    {
     "name": "stderr",
     "output_type": "stream",
     "text": [
      "[rank: 0] Seed set to 42\n"
     ]
    },
    {
     "data": {
      "text/plain": [
       "42"
      ]
     },
     "execution_count": 1,
     "metadata": {},
     "output_type": "execute_result"
    }
   ],
   "source": [
    "import json\n",
    "import pandas as pd\n",
    "import numpy as np\n",
    "from torch.utils.data import Dataset, DataLoader\n",
    "import torch\n",
    "from sklearn.preprocessing import StandardScaler\n",
    "import os\n",
    "import pickle\n",
    "from tqdm import tqdm\n",
    "import lightning as L\n",
    "import torch.nn as nn\n",
    "from torch.utils.data import random_split\n",
    "from lightning.pytorch.callbacks import ModelCheckpoint\n",
    "import sys\n",
    "import random\n",
    "\n",
    "sys.path.append(\"/home/maxihuber/eeg-foundation/\")\n",
    "L.seed_everything(42)"
   ]
  },
  {
   "cell_type": "code",
   "execution_count": 26,
   "id": "c13bf25c-2445-4234-b1de-72bf5d2ba4d4",
   "metadata": {},
   "outputs": [
    {
     "name": "stdout",
     "output_type": "stream",
     "text": [
      "{'Target is located in the right', 'without error-related potential', 'The cursor moves to the left', 'The feedback consisted in the selected item is presented on the screen', 'The cursor moves to the right', 'with error-related potential', 'Target is located in the left'}\n",
      "7\n"
     ]
    }
   ],
   "source": [
    "json_path = '/itet-stor/maxihuber/deepeye_storage/foundation_tasks/erp/errp_all.json'\n",
    "\n",
    "def load_index0(data_index_path):\n",
    "    with open(data_index_path, 'r') as f:\n",
    "        train_test_dict = json.load(f)\n",
    "    train_samples = train_test_dict['train']\n",
    "    test_samples = train_test_dict['test']\n",
    "    return train_samples, test_samples\n",
    "\n",
    "def load_index1(data_index_paths):\n",
    "    all_samples = []\n",
    "    for data_index_path in data_index_paths:\n",
    "        with open(data_index_path, 'r') as f:\n",
    "            subset_dict = json.load(f)\n",
    "        all_samples.append(list(subset_dict.values())[0])\n",
    "    return all_samples[0], all_samples[1], all_samples[2]\n",
    "\n",
    "train_index, test_index = load_index0(json_path)\n",
    "outputs = set([sample[\"label\"] for sample in train_index] + [sample[\"label\"] for sample in test_index])\n",
    "print(outputs)\n",
    "print(len(outputs))"
   ]
  },
  {
   "cell_type": "code",
   "execution_count": null,
   "id": "ecaa4aff-ca0c-4976-bcb0-1762aa0c768a",
   "metadata": {},
   "outputs": [],
   "source": [
    "with open('/home/maxihuber/eeg-foundation/src/data/components/channels_to_id.json', 'r') as f:\n",
    "    pkl_channels = set(json.load(f).keys())\n",
    "    cli_channels = set(['AF3', 'AF4', 'AF7', 'AF8', 'AFz', \n",
    "                     'C1', 'C2', 'C3', 'C4', 'C5', 'C6', \n",
    "                     'CP1', 'CP2', 'CP3', 'CP4', 'CP5', 'CP6', 'CPz', 'Cz', \n",
    "                     'F1', 'F2', 'F3', 'F4', 'F5', 'F6', 'F7', 'F8', \n",
    "                     'FC1', 'FC2', 'FC3', 'FC4', 'FC5', 'FC6', 'FCz', \n",
    "                     'FT7', 'FT8', 'Fp1', 'Fp2', 'Fz', 'Mastoids', \n",
    "                     'O1', 'O2', 'Oz', 'P1', 'P2', 'P3', 'P4', 'P5', 'P6', 'P7', 'P8', \n",
    "                     'PO3', 'PO4', 'PO7', 'PO8', 'POz', 'Pz', 'T7', 'T8', 'TP7', 'TP8', \n",
    "                     'Veog', 'X', 'Y', 'Z'])\n",
    "    task_channels = pkl_channels | cli_channels"
   ]
  }
 ],
 "metadata": {
  "kernelspec": {
   "display_name": "Python 3 (ipykernel)",
   "language": "python",
   "name": "python3"
  },
  "language_info": {
   "codemirror_mode": {
    "name": "ipython",
    "version": 3
   },
   "file_extension": ".py",
   "mimetype": "text/x-python",
   "name": "python",
   "nbconvert_exporter": "python",
   "pygments_lexer": "ipython3",
   "version": "3.9.18"
  }
 },
 "nbformat": 4,
 "nbformat_minor": 5
}
